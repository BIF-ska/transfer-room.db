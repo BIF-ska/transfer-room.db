{
 "cells": [
  {
   "cell_type": "code",
   "execution_count": 5,
   "metadata": {},
   "outputs": [
    {
     "name": "stdout",
     "output_type": "stream",
     "text": [
      "There are 5772 distinct teams.\n"
     ]
    }
   ],
   "source": [
    "import pandas as pd\n",
    "\n",
    "# Load the JSON data into a DataFrame\n",
    "file_path = 'C:\\\\Users\\\\ska\\\\OneDrive - Brøndbyernes IF Fodbold\\\\Dokumenter\\\\GitHub\\\\players_data.json'\n",
    "df = pd.read_json(file_path)\n",
    "\n",
    "# Count the number of distinct teams\n",
    "distinct_teams = df['CurrentTeam'].nunique()\n",
    "\n",
    "print(f'There are {distinct_teams} distinct teams.')"
   ]
  }
 ],
 "metadata": {
  "kernelspec": {
   "display_name": "praktik",
   "language": "python",
   "name": "python3"
  },
  "language_info": {
   "codemirror_mode": {
    "name": "ipython",
    "version": 3
   },
   "file_extension": ".py",
   "mimetype": "text/x-python",
   "name": "python",
   "nbconvert_exporter": "python",
   "pygments_lexer": "ipython3",
   "version": "3.11.11"
  }
 },
 "nbformat": 4,
 "nbformat_minor": 2
}
